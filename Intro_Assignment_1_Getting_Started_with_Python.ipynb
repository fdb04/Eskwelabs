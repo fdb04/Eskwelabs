{
 "cells": [
  {
   "cell_type": "markdown",
   "metadata": {
    "colab_type": "text",
    "id": "51dZwqDNc9x6"
   },
   "source": [
    "# Data Science - Getting Started with Python\n",
    "\n",
    "Following are exercises you should complete. Workflow:\n",
    "\n",
    "1. Complete the exercises! This means fill out the code cells, and run them (shift-enter or click the play button that appears when you're in one of them)\n",
    "2. Take a look at your work, and write comments/add text cells as appropriate to explain\n",
    "3. Upload the notebook to your GitHub repository and submit a link [here](https://docs.google.com/forms/d/e/1FAIpQLScdlw-GN3tHPHxROIulxoPmxXmvK-UmXco3lgjiJ0Ckltn6QA/viewform?usp=sf_link)"
   ]
  },
  {
   "cell_type": "markdown",
   "metadata": {
    "colab_type": "text",
    "id": "I6biutgwdgpb"
   },
   "source": [
    "## Exercise 1 - A bit of Math\n",
    "\n",
    "For these \"word\" problems, use Python to clearly solve them. Your code will \"show your work\" - use good variable names! To show your answers you should write a `print()` statement at the end.\n",
    "\n",
    "### a) It's a gas\n",
    "\n",
    "A taxi driver is calculating their profit over two weeks by adding up the fares they charge and subtracting the cost of gas. The price of gas changes over time - it was `$3.52`/gallon the first week and `$3.57`/gallon this second week. Their car gets 20 miles per gallon.\n",
    "\n",
    "For the first week the driver had a total of 23 passengers with average `$29` fare each, and drove a total of 160 miles. For the second week they had 17 passengers with average `$30` fare each, and drove a total of 220 miles. Assume that for both weeks they purchase all the gas needed during that week (i.e. they refuel every week to maintain a constant level of gas in the tank).\n",
    "\n",
    "Based on the above, answer the following questions:\n",
    "\n",
    "- What is their total profit over both weeks?\n",
    "- During which week was their average (mean) profit per passenger higher?\n"
   ]
  },
  {
   "cell_type": "code",
   "execution_count": 20,
   "metadata": {
    "colab": {},
    "colab_type": "code",
    "id": "CWJeYQW6AoGf"
   },
   "outputs": [
    {
     "name": "stdout",
     "output_type": "stream",
     "text": [
      "The total profit over two weeks is $1,109.57.\n",
      "Week 1 - $15.97\n",
      "Week 2 - $11.77\n",
      "Week 1 has higher average profit per passenger than week 2.\n"
     ]
    }
   ],
   "source": [
    "# Define variables here\n",
    "car_miles_gallon = 20\n",
    "\n",
    "w1_gallon_rate = 3.52\n",
    "w1_passengers = 23\n",
    "w1_ave_fare = 29\n",
    "w1_total_miles = 160\n",
    "\n",
    "w2_gallon_rate = 3.57\n",
    "w2_passengers = 17\n",
    "w2_ave_fare = 30\n",
    "w2_total_miles = 220\n",
    "\n",
    "# Define Functions\n",
    "def get_profit_week1():\n",
    "    total_gallon = (w1_total_miles/car_miles_gallon)\n",
    "    total_gas = total_gallon * w1_gallon_rate\n",
    "    total_income = w1_passengers * w1_ave_fare\n",
    "    return total_income - total_gas\n",
    "\n",
    "def get_profit_week2():\n",
    "    total_gallon = (w2_total_miles/car_miles_gallon)\n",
    "    total_gas = total_gallon * w2_gallon_rate\n",
    "    total_income = w2_passengers * w2_ave_fare\n",
    "    return total_income - total_gas\n",
    "\n",
    "# Answer to question: What is their total profit over both weeks?\n",
    "def get_total_profit():\n",
    "    return get_profit_week1() + get_profit_week2()\n",
    "\n",
    "print('The total profit over two weeks is ${:0,.2f}.'.format(get_total_profit()))\n",
    "\n",
    "\n",
    "# Answer to question: During which week was their average (mean) profit per passenger higher?\n",
    "def get_higher_average_profit(x, y):\n",
    "    total_passengers = w1_passengers + w2_passengers\n",
    "    ave_profit_week1 = x/total_passengers\n",
    "    ave_profit_week2 = y/total_passengers\n",
    "    \n",
    "    print('Week 1 - ${:0,.2f}'.format(ave_profit_week1))\n",
    "    print('Week 2 - ${:0,.2f}'.format(ave_profit_week2))\n",
    "    if ave_profit_week1 > ave_profit_week2:\n",
    "        result = 'Week 1 has higher average profit per passenger than week 2.'\n",
    "    elif ave_profit_week1 < ave_profit_week2:\n",
    "        result = 'Week 2 has higher average profit per passenger than week 1.'\n",
    "    else:\n",
    "        result = 'Week 1 and week 2 has the same average profit per passenger.'\n",
    "    \n",
    "    return result\n",
    "\n",
    "print(get_higher_average_profit(get_profit_week1(), get_profit_week2()))"
   ]
  },
  {
   "cell_type": "markdown",
   "metadata": {
    "colab_type": "text",
    "id": "0l4bUPHmR5Ko"
   },
   "source": [
    "### b) Mo' money...\n",
    "\n",
    "A cash drawer contains 160 bills, all 10s and 50s. The total value of the 10s and 50s is $1,760.\n",
    "\n",
    "How many of each type of bill are in the drawer? You can figure this out by trial and error (or by doing algebra with pencil and paper), but try to use loops and conditionals to check a plausible possibilities and stop when you find the correct one."
   ]
  },
  {
   "cell_type": "code",
   "execution_count": 43,
   "metadata": {
    "colab": {},
    "colab_type": "code",
    "id": "Q2Atz_kyR8_6"
   },
   "outputs": [
    {
     "name": "stdout",
     "output_type": "stream",
     "text": [
      "[156, 4]\n",
      "There are 156 bills for 10s and 4 bills for 50s.\n"
     ]
    }
   ],
   "source": [
    "# Define modules to be used\n",
    "import numpy as np\n",
    "\n",
    "# Define variables. This can also be used as parameter to the function.\n",
    "total_bills_ctr = 160\n",
    "\n",
    "# Parameter: type of bills and total value of bills\n",
    "# Return: String - answer to question on how many bills each.\n",
    "def get_bill_type_ctr(bill1, bill2, total_value):\n",
    "    bill_arr = np.arange(total_bills_ctr + 1)\n",
    "    result = ''\n",
    "    \n",
    "    # Another way to do it using List Comprehension\n",
    "    # How to print 2 variables in here?\n",
    "    x_lc = ([x for x in bill_arr if (bill1 * x) + (bill2 * (total_bills_ctr-x)) == total_value])\n",
    "    x_lc.append(total_bills_ctr - x_lc[0])\n",
    "    print(x_lc)\n",
    "    \n",
    "    # using for loop\n",
    "    for x in bill_arr:\n",
    "        y = total_bills_ctr - x\n",
    "        if (bill1 * x) + (bill2 * y) == total_value:\n",
    "            # Since there can only one possible outcome, we can return/stop the function\n",
    "            return 'There are ' + str(x) + ' bills for ' + str(bill1) \\\n",
    "                  + 's and ' + str(y) + ' bills for ' + str(bill2) + 's.'\n",
    "            break            \n",
    "    return 'Total value not equal to smaller bills'\n",
    "        \n",
    "print(get_bill_type_ctr(10, 50, 1760))\n",
    "        "
   ]
  },
  {
   "cell_type": "markdown",
   "metadata": {
    "colab_type": "text",
    "id": "UCFtX_q9aQlc"
   },
   "source": [
    "## Exercise 2 - Drawing a plot\n",
    "\n",
    "Use NumPy and Matplotlib to draw a scatterplot of uniform random `(x, y)` values all drawn from the `[0, 1]` interval. Helpful documentation:\n",
    "\n",
    "*   https://matplotlib.org/tutorials/index.html\n",
    "*   https://docs.scipy.org/doc/numpy/user/quickstart.html\n",
    "\n",
    "Stretch goal - draw more plots! You can refer to the [Matplotlib gallery](https://matplotlib.org/gallery.html) for inspiration, but don't just reproduce something - try to apply it to your own data.\n",
    "\n",
    "How to get data? There's *many* ways, but a good place to get started is with [sklearn.datasets](http://scikit-learn.org/stable/datasets/index.html):\n",
    "\n",
    "```\n",
    "from sklearn import datasets\n",
    "dir(datasets)\n",
    "```"
   ]
  },
  {
   "cell_type": "code",
   "execution_count": 89,
   "metadata": {
    "colab": {},
    "colab_type": "code",
    "id": "pNEb09gMaltL"
   },
   "outputs": [
    {
     "data": {
      "text/plain": [
       "[<matplotlib.lines.Line2D at 0x2db8e0de908>]"
      ]
     },
     "execution_count": 89,
     "metadata": {},
     "output_type": "execute_result"
    },
    {
     "data": {
      "image/png": "[encoded data removed]",
      "text/plain": [
       "<Figure size 432x288 with 1 Axes>"
      ]
     },
     "metadata": {
      "needs_background": "light"
     },
     "output_type": "display_data"
    }
   ],
   "source": [
    "import matplotlib.pyplot as plt\n",
    "import numpy as np\n",
    "\n",
    "# your code here\n",
    "from sklearn import datasets\n",
    "dir(datasets)\n",
    "\n",
    "# Load the diabetes dataset\n",
    "data_diabetes = datasets.load_diabetes()\n",
    "x = data_diabetes.data[0:30,2]\n",
    "y = data_diabetes.data[0:30,3]\n",
    "plt.plot(x, y, 'ko')"
   ]
  },
  {
   "cell_type": "code",
   "execution_count": null,
   "metadata": {},
   "outputs": [],
   "source": []
  }
 ],
 "metadata": {
  "colab": {
   "collapsed_sections": [],
   "name": "LSDS Intro Assignment 1 - Getting Started with Python.ipynb",
   "provenance": [],
   "version": "0.3.2"
  },
  "kernelspec": {
   "display_name": "Python 3",
   "language": "python",
   "name": "python3"
  },
  "language_info": {
   "codemirror_mode": {
    "name": "ipython",
    "version": 3
   },
   "file_extension": ".py",
   "mimetype": "text/x-python",
   "name": "python",
   "nbconvert_exporter": "python",
   "pygments_lexer": "ipython3",
   "version": "3.7.3"
  }
 },
 "nbformat": 4,
 "nbformat_minor": 1
}
